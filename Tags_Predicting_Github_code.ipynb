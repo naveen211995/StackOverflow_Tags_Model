{
  "nbformat": 4,
  "nbformat_minor": 0,
  "metadata": {
    "colab": {
      "name": "Tags_Predicting_Github",
      "provenance": [],
      "collapsed_sections": [],
      "machine_shape": "hm"
    },
    "kernelspec": {
      "name": "python3",
      "display_name": "Python 3"
    },
    "accelerator": "GPU"
  },
  "cells": [
    {
      "cell_type": "markdown",
      "metadata": {
        "id": "6A5eDQte5MGl",
        "colab_type": "text"
      },
      "source": [
        "# **StackOverflow Top10 tags**"
      ]
    },
    {
      "cell_type": "markdown",
      "metadata": {
        "id": "vhkQ8tQl5eKO",
        "colab_type": "text"
      },
      "source": [
        "The aim is here to build a model to predict the tag associated with the text. (Here we will build a model for the top 10 tags only)"
      ]
    },
    {
      "cell_type": "code",
      "metadata": {
        "id": "1Fc9Flu05w5w",
        "colab_type": "code",
        "colab": {}
      },
      "source": [
        "#Intially we will import the dataset into the Notebook.."
      ],
      "execution_count": 0,
      "outputs": []
    },
    {
      "cell_type": "code",
      "metadata": {
        "id": "oH0vhFF4UEh2",
        "colab_type": "code",
        "colab": {}
      },
      "source": [
        "!pip install -U -q PyDrive"
      ],
      "execution_count": 0,
      "outputs": []
    },
    {
      "cell_type": "code",
      "metadata": {
        "id": "ackY96iNu4FJ",
        "colab_type": "code",
        "outputId": "a6ad33e2-2521-4c04-bb5f-bd2b3c7b111a",
        "colab": {
          "base_uri": "https://localhost:8080/",
          "height": 128
        }
      },
      "source": [
        "from google.colab import drive\n",
        "drive.mount('/content/drive')"
      ],
      "execution_count": 2,
      "outputs": [
        {
          "output_type": "stream",
          "text": [
            "Go to this URL in a browser: https://accounts.google.com/o/oauth2/auth?client_id=947318989803-6bn6qk8qdgf4n4g3pfee6491hc0brc4i.apps.googleusercontent.com&redirect_uri=urn%3aietf%3awg%3aoauth%3a2.0%3aoob&response_type=code&scope=email%20https%3a%2f%2fwww.googleapis.com%2fauth%2fdocs.test%20https%3a%2f%2fwww.googleapis.com%2fauth%2fdrive%20https%3a%2f%2fwww.googleapis.com%2fauth%2fdrive.photos.readonly%20https%3a%2f%2fwww.googleapis.com%2fauth%2fpeopleapi.readonly\n",
            "\n",
            "Enter your authorization code:\n",
            "··········\n",
            "Mounted at /content/drive\n"
          ],
          "name": "stdout"
        }
      ]
    },
    {
      "cell_type": "code",
      "metadata": {
        "id": "eO__yTDOvFcn",
        "colab_type": "code",
        "colab": {}
      },
      "source": [
        "from pydrive.auth import GoogleAuth\n",
        "from pydrive.drive import GoogleDrive\n",
        "from google.colab import auth\n",
        "from oauth2client.client import GoogleCredentials"
      ],
      "execution_count": 0,
      "outputs": []
    },
    {
      "cell_type": "code",
      "metadata": {
        "id": "QbTu2iVQvlHd",
        "colab_type": "code",
        "colab": {}
      },
      "source": [
        "auth.authenticate_user()\n",
        "gauth = GoogleAuth()\n",
        "gauth.credentials = GoogleCredentials.get_application_default()\n",
        "drive = GoogleDrive(gauth)"
      ],
      "execution_count": 0,
      "outputs": []
    },
    {
      "cell_type": "code",
      "metadata": {
        "id": "iRoaEERyv0J7",
        "colab_type": "code",
        "colab": {}
      },
      "source": [
        "downloaded= drive.CreateFile({'id': '1h4Xd0WgRd14Nv0PRVypkqOt11hNteCnS'})\n",
        "downloaded.GetContentFile('stacksample.zip')"
      ],
      "execution_count": 0,
      "outputs": []
    },
    {
      "cell_type": "code",
      "metadata": {
        "id": "J5dZetsuwsol",
        "colab_type": "code",
        "outputId": "482a506f-2bd5-46a6-b84e-e1e7fc97bc50",
        "colab": {
          "base_uri": "https://localhost:8080/",
          "height": 90
        }
      },
      "source": [
        "!unzip stacksample.zip"
      ],
      "execution_count": 7,
      "outputs": [
        {
          "output_type": "stream",
          "text": [
            "Archive:  stacksample.zip\n",
            "  inflating: Answers.csv             \n",
            "  inflating: Questions.csv           \n",
            "  inflating: Tags.csv                \n"
          ],
          "name": "stdout"
        }
      ]
    },
    {
      "cell_type": "code",
      "metadata": {
        "id": "_WDqvwPk35oh",
        "colab_type": "code",
        "colab": {}
      },
      "source": [
        "#Importing required packages..\n",
        "import numpy as np\n",
        "import pandas as pd"
      ],
      "execution_count": 0,
      "outputs": []
    },
    {
      "cell_type": "code",
      "metadata": {
        "id": "wib_Uiwj4A4t",
        "colab_type": "code",
        "colab": {}
      },
      "source": [
        "questions_data= pd.read_csv('Questions.csv', encoding='iso-8859-1')\n",
        "tags_data= pd.read_csv('Tags.csv', encoding='iso-8859-1')"
      ],
      "execution_count": 0,
      "outputs": []
    },
    {
      "cell_type": "code",
      "metadata": {
        "id": "3R8bZq4D4W9q",
        "colab_type": "code",
        "colab": {}
      },
      "source": [
        "#filtering the top_10 most associated tags from the entire dataset\n",
        "top_10= list(tags_data['Tag'].value_counts().head(10).index)"
      ],
      "execution_count": 0,
      "outputs": []
    },
    {
      "cell_type": "code",
      "metadata": {
        "id": "CMPBTtqu4_Y7",
        "colab_type": "code",
        "outputId": "f83d7551-1d86-435c-fab0-6d99dfc944d7",
        "colab": {
          "base_uri": "https://localhost:8080/",
          "height": 199
        }
      },
      "source": [
        "top_10"
      ],
      "execution_count": 4,
      "outputs": [
        {
          "output_type": "execute_result",
          "data": {
            "text/plain": [
              "['javascript',\n",
              " 'java',\n",
              " 'c#',\n",
              " 'php',\n",
              " 'android',\n",
              " 'jquery',\n",
              " 'python',\n",
              " 'html',\n",
              " 'c++',\n",
              " 'ios']"
            ]
          },
          "metadata": {
            "tags": []
          },
          "execution_count": 4
        }
      ]
    },
    {
      "cell_type": "code",
      "metadata": {
        "id": "whn478dD7MyU",
        "colab_type": "code",
        "colab": {}
      },
      "source": [
        "tags_data= tags_data[tags_data['Tag'].isin(top_10)]"
      ],
      "execution_count": 0,
      "outputs": []
    },
    {
      "cell_type": "code",
      "metadata": {
        "id": "jOtdiFFG6Fhh",
        "colab_type": "code",
        "colab": {}
      },
      "source": [
        "questions= pd.merge(tags_data, questions_data, how='inner', on=['Id'])"
      ],
      "execution_count": 0,
      "outputs": []
    },
    {
      "cell_type": "markdown",
      "metadata": {
        "id": "zKiSseV-CZt9",
        "colab_type": "text"
      },
      "source": [
        "# **Data Preprocessing**"
      ]
    },
    {
      "cell_type": "code",
      "metadata": {
        "id": "wnZDQFwM_zO7",
        "colab_type": "code",
        "colab": {}
      },
      "source": [
        "#Now, I'll take only quesions with a score greater than 5. I'm doing that for 2 reasons:\n",
        "  #1- I'll require less computational resources.\n",
        "  #2- The posts will probably be with a better quality and will be better tagged since they have lots of upvotes."
      ],
      "execution_count": 0,
      "outputs": []
    },
    {
      "cell_type": "code",
      "metadata": {
        "id": "0ySYnpWZCwMw",
        "colab_type": "code",
        "outputId": "6d1dc076-b9f6-4033-a268-1c3e2b8d3b27",
        "colab": {
          "base_uri": "https://localhost:8080/",
          "height": 35
        }
      },
      "source": [
        "questions.shape"
      ],
      "execution_count": 8,
      "outputs": [
        {
          "output_type": "execute_result",
          "data": {
            "text/plain": [
              "(826739, 8)"
            ]
          },
          "metadata": {
            "tags": []
          },
          "execution_count": 8
        }
      ]
    },
    {
      "cell_type": "code",
      "metadata": {
        "id": "vvMVuEPD_zMv",
        "colab_type": "code",
        "colab": {}
      },
      "source": [
        "questions= questions[questions['Score']>5]"
      ],
      "execution_count": 0,
      "outputs": []
    },
    {
      "cell_type": "code",
      "metadata": {
        "id": "_WffQbC2C_Ex",
        "colab_type": "code",
        "outputId": "379cc962-5037-43c7-f2a4-428bd810336d",
        "colab": {
          "base_uri": "https://localhost:8080/",
          "height": 35
        }
      },
      "source": [
        "questions.shape"
      ],
      "execution_count": 10,
      "outputs": [
        {
          "output_type": "execute_result",
          "data": {
            "text/plain": [
              "(43800, 8)"
            ]
          },
          "metadata": {
            "tags": []
          },
          "execution_count": 10
        }
      ]
    },
    {
      "cell_type": "code",
      "metadata": {
        "id": "IedcVnBO7YjM",
        "colab_type": "code",
        "outputId": "42e8c28f-3c21-47c3-9cb8-71c9cd5b652c",
        "colab": {
          "base_uri": "https://localhost:8080/",
          "height": 143
        }
      },
      "source": [
        "questions.head(3) #Here we see that [Id, OwnerUserId, CreationDate, ClosedDate, Score] will have no impact on predicting the tags;\n",
        "                  #hence we will not consider those for prediction."
      ],
      "execution_count": 11,
      "outputs": [
        {
          "output_type": "execute_result",
          "data": {
            "text/html": [
              "<div>\n",
              "<style scoped>\n",
              "    .dataframe tbody tr th:only-of-type {\n",
              "        vertical-align: middle;\n",
              "    }\n",
              "\n",
              "    .dataframe tbody tr th {\n",
              "        vertical-align: top;\n",
              "    }\n",
              "\n",
              "    .dataframe thead th {\n",
              "        text-align: right;\n",
              "    }\n",
              "</style>\n",
              "<table border=\"1\" class=\"dataframe\">\n",
              "  <thead>\n",
              "    <tr style=\"text-align: right;\">\n",
              "      <th></th>\n",
              "      <th>Id</th>\n",
              "      <th>Tag</th>\n",
              "      <th>OwnerUserId</th>\n",
              "      <th>CreationDate</th>\n",
              "      <th>ClosedDate</th>\n",
              "      <th>Score</th>\n",
              "      <th>Title</th>\n",
              "      <th>Body</th>\n",
              "    </tr>\n",
              "  </thead>\n",
              "  <tbody>\n",
              "    <tr>\n",
              "      <th>0</th>\n",
              "      <td>260</td>\n",
              "      <td>c#</td>\n",
              "      <td>91.0</td>\n",
              "      <td>2008-08-01T23:22:08Z</td>\n",
              "      <td>NaN</td>\n",
              "      <td>49</td>\n",
              "      <td>Adding scripting functionality to .NET applica...</td>\n",
              "      <td>&lt;p&gt;I have a little game written in C#. It uses...</td>\n",
              "    </tr>\n",
              "    <tr>\n",
              "      <th>1</th>\n",
              "      <td>330</td>\n",
              "      <td>c++</td>\n",
              "      <td>63.0</td>\n",
              "      <td>2008-08-02T02:51:36Z</td>\n",
              "      <td>NaN</td>\n",
              "      <td>29</td>\n",
              "      <td>Should I use nested classes in this case?</td>\n",
              "      <td>&lt;p&gt;I am working on a collection of classes use...</td>\n",
              "    </tr>\n",
              "    <tr>\n",
              "      <th>2</th>\n",
              "      <td>650</td>\n",
              "      <td>c#</td>\n",
              "      <td>143.0</td>\n",
              "      <td>2008-08-03T11:12:52Z</td>\n",
              "      <td>NaN</td>\n",
              "      <td>79</td>\n",
              "      <td>Automatically update version number</td>\n",
              "      <td>&lt;p&gt;I would like the version property of my app...</td>\n",
              "    </tr>\n",
              "  </tbody>\n",
              "</table>\n",
              "</div>"
            ],
            "text/plain": [
              "    Id  ...                                               Body\n",
              "0  260  ...  <p>I have a little game written in C#. It uses...\n",
              "1  330  ...  <p>I am working on a collection of classes use...\n",
              "2  650  ...  <p>I would like the version property of my app...\n",
              "\n",
              "[3 rows x 8 columns]"
            ]
          },
          "metadata": {
            "tags": []
          },
          "execution_count": 11
        }
      ]
    },
    {
      "cell_type": "code",
      "metadata": {
        "id": "KHSfy8fl7b3I",
        "colab_type": "code",
        "colab": {}
      },
      "source": [
        "questions= questions[['Tag','Title','Body']]"
      ],
      "execution_count": 0,
      "outputs": []
    },
    {
      "cell_type": "code",
      "metadata": {
        "id": "9Ix818D67rOo",
        "colab_type": "code",
        "outputId": "4953d407-a785-491d-dc1c-9793841d4605",
        "colab": {
          "base_uri": "https://localhost:8080/",
          "height": 143
        }
      },
      "source": [
        "questions.head(3)"
      ],
      "execution_count": 13,
      "outputs": [
        {
          "output_type": "execute_result",
          "data": {
            "text/html": [
              "<div>\n",
              "<style scoped>\n",
              "    .dataframe tbody tr th:only-of-type {\n",
              "        vertical-align: middle;\n",
              "    }\n",
              "\n",
              "    .dataframe tbody tr th {\n",
              "        vertical-align: top;\n",
              "    }\n",
              "\n",
              "    .dataframe thead th {\n",
              "        text-align: right;\n",
              "    }\n",
              "</style>\n",
              "<table border=\"1\" class=\"dataframe\">\n",
              "  <thead>\n",
              "    <tr style=\"text-align: right;\">\n",
              "      <th></th>\n",
              "      <th>Tag</th>\n",
              "      <th>Title</th>\n",
              "      <th>Body</th>\n",
              "    </tr>\n",
              "  </thead>\n",
              "  <tbody>\n",
              "    <tr>\n",
              "      <th>0</th>\n",
              "      <td>c#</td>\n",
              "      <td>Adding scripting functionality to .NET applica...</td>\n",
              "      <td>&lt;p&gt;I have a little game written in C#. It uses...</td>\n",
              "    </tr>\n",
              "    <tr>\n",
              "      <th>1</th>\n",
              "      <td>c++</td>\n",
              "      <td>Should I use nested classes in this case?</td>\n",
              "      <td>&lt;p&gt;I am working on a collection of classes use...</td>\n",
              "    </tr>\n",
              "    <tr>\n",
              "      <th>2</th>\n",
              "      <td>c#</td>\n",
              "      <td>Automatically update version number</td>\n",
              "      <td>&lt;p&gt;I would like the version property of my app...</td>\n",
              "    </tr>\n",
              "  </tbody>\n",
              "</table>\n",
              "</div>"
            ],
            "text/plain": [
              "   Tag  ...                                               Body\n",
              "0   c#  ...  <p>I have a little game written in C#. It uses...\n",
              "1  c++  ...  <p>I am working on a collection of classes use...\n",
              "2   c#  ...  <p>I would like the version property of my app...\n",
              "\n",
              "[3 rows x 3 columns]"
            ]
          },
          "metadata": {
            "tags": []
          },
          "execution_count": 13
        }
      ]
    },
    {
      "cell_type": "code",
      "metadata": {
        "id": "IGTXkx1_71XW",
        "colab_type": "code",
        "outputId": "8f2e3615-5e12-4e93-dcfc-e70cb66e3895",
        "colab": {
          "base_uri": "https://localhost:8080/",
          "height": 90
        }
      },
      "source": [
        "#We will check whether we have any null values in the data set\n",
        "questions.isnull().mean(axis=0) #No null values"
      ],
      "execution_count": 14,
      "outputs": [
        {
          "output_type": "execute_result",
          "data": {
            "text/plain": [
              "Tag      0.0\n",
              "Title    0.0\n",
              "Body     0.0\n",
              "dtype: float64"
            ]
          },
          "metadata": {
            "tags": []
          },
          "execution_count": 14
        }
      ]
    },
    {
      "cell_type": "code",
      "metadata": {
        "id": "9_szyjmmBZJV",
        "colab_type": "code",
        "outputId": "f3c5a42e-695a-473c-bac5-3865ca67395c",
        "colab": {
          "base_uri": "https://localhost:8080/",
          "height": 35
        }
      },
      "source": [
        "#We will check whether we have any duplicate values in the data set\n",
        "questions.duplicated().sum() #No duplicate values"
      ],
      "execution_count": 15,
      "outputs": [
        {
          "output_type": "execute_result",
          "data": {
            "text/plain": [
              "0"
            ]
          },
          "metadata": {
            "tags": []
          },
          "execution_count": 15
        }
      ]
    },
    {
      "cell_type": "code",
      "metadata": {
        "id": "3EPG3UJfCqrT",
        "colab_type": "code",
        "colab": {}
      },
      "source": [
        "# #In the next two columns: Body and Title, I'll use lots of text processing:\n",
        "#     Removing html format\n",
        "#     Lowering text\n",
        "#     Transforming abbreviations\n",
        "#     Removing punctuation (but keeping words like c# since it's the most popular tag)\n",
        "#     Lemmatizing words\n",
        "#     Removing stop words"
      ],
      "execution_count": 0,
      "outputs": []
    },
    {
      "cell_type": "code",
      "metadata": {
        "id": "SKMw85NOEMCb",
        "colab_type": "code",
        "colab": {}
      },
      "source": [
        "#Importing the required package.\n",
        "import bs4\n",
        "from bs4 import BeautifulSoup\n",
        "import re"
      ],
      "execution_count": 0,
      "outputs": []
    },
    {
      "cell_type": "code",
      "metadata": {
        "id": "qKThS_4KDc7x",
        "colab_type": "code",
        "colab": {}
      },
      "source": [
        "#Converting html to text in the BODY column.\n",
        "questions['Body']= questions['Body'].apply(lambda x: bs4.BeautifulSoup(x).get_text())"
      ],
      "execution_count": 0,
      "outputs": []
    },
    {
      "cell_type": "code",
      "metadata": {
        "id": "2rV8wfdiWZhb",
        "colab_type": "code",
        "colab": {}
      },
      "source": [
        "#Converting html to text in the TITLE column.\n",
        "questions['Title']= questions['Title'].apply(lambda x: bs4.BeautifulSoup(x).get_text())\n",
        "questions['Title']= questions['Title'].apply(lambda x: str(x))"
      ],
      "execution_count": 0,
      "outputs": []
    },
    {
      "cell_type": "code",
      "metadata": {
        "id": "WE8oeZpdD-W3",
        "colab_type": "code",
        "colab": {}
      },
      "source": [
        "#Defining a function to clean the texts.\n",
        "def clean_text(text):\n",
        "    text = text.lower()\n",
        "    text = re.sub(r\"what's\", \"what is \", text)\n",
        "    text = re.sub(r\"\\'s\", \" \", text)\n",
        "    text = re.sub(r\"\\'ve\", \" have \", text)\n",
        "    text = re.sub(r\"can't\", \"can not \", text)\n",
        "    text = re.sub(r\"n't\", \" not \", text)\n",
        "    text = re.sub(r\"i'm\", \"i am \", text)\n",
        "    text = re.sub(r\"\\'re\", \" are \", text)\n",
        "    text = re.sub(r\"\\'d\", \" would \", text)\n",
        "    text = re.sub(r\"\\'ll\", \" will \", text)\n",
        "    text = re.sub(r\"\\'scuse\", \" excuse \", text)\n",
        "    text = re.sub(r\"\\'\\n\", \" \", text)\n",
        "    text = re.sub(r\"\\'\\xa0\", \" \", text)\n",
        "    text = re.sub('\\s+', ' ', text)\n",
        "    text = text.strip(' ')\n",
        "    return text"
      ],
      "execution_count": 0,
      "outputs": []
    },
    {
      "cell_type": "code",
      "metadata": {
        "id": "qpiOLXpNEk_u",
        "colab_type": "code",
        "colab": {}
      },
      "source": [
        "#Cleaning the texts in the BODY column.\n",
        "questions['Body']= questions['Body'].apply(lambda x: clean_text(x))"
      ],
      "execution_count": 0,
      "outputs": []
    },
    {
      "cell_type": "code",
      "metadata": {
        "id": "Vg7vpV8BWrhL",
        "colab_type": "code",
        "colab": {}
      },
      "source": [
        "#Cleaning the texts in the TITLE column.\n",
        "questions['Title']= questions['Title'].apply(lambda x: clean_text(x))"
      ],
      "execution_count": 0,
      "outputs": []
    },
    {
      "cell_type": "code",
      "metadata": {
        "id": "fSM2KKMmEze_",
        "colab_type": "code",
        "outputId": "e351bdda-8da1-4160-c54c-71875cbc6d95",
        "colab": {
          "base_uri": "https://localhost:8080/",
          "height": 143
        }
      },
      "source": [
        "questions.head(3)"
      ],
      "execution_count": 23,
      "outputs": [
        {
          "output_type": "execute_result",
          "data": {
            "text/html": [
              "<div>\n",
              "<style scoped>\n",
              "    .dataframe tbody tr th:only-of-type {\n",
              "        vertical-align: middle;\n",
              "    }\n",
              "\n",
              "    .dataframe tbody tr th {\n",
              "        vertical-align: top;\n",
              "    }\n",
              "\n",
              "    .dataframe thead th {\n",
              "        text-align: right;\n",
              "    }\n",
              "</style>\n",
              "<table border=\"1\" class=\"dataframe\">\n",
              "  <thead>\n",
              "    <tr style=\"text-align: right;\">\n",
              "      <th></th>\n",
              "      <th>Tag</th>\n",
              "      <th>Title</th>\n",
              "      <th>Body</th>\n",
              "    </tr>\n",
              "  </thead>\n",
              "  <tbody>\n",
              "    <tr>\n",
              "      <th>0</th>\n",
              "      <td>c#</td>\n",
              "      <td>adding scripting functionality to .net applica...</td>\n",
              "      <td>i have a little game written in c#. it uses a ...</td>\n",
              "    </tr>\n",
              "    <tr>\n",
              "      <th>1</th>\n",
              "      <td>c++</td>\n",
              "      <td>should i use nested classes in this case?</td>\n",
              "      <td>i am working on a collection of classes used f...</td>\n",
              "    </tr>\n",
              "    <tr>\n",
              "      <th>2</th>\n",
              "      <td>c#</td>\n",
              "      <td>automatically update version number</td>\n",
              "      <td>i would like the version property of my applic...</td>\n",
              "    </tr>\n",
              "  </tbody>\n",
              "</table>\n",
              "</div>"
            ],
            "text/plain": [
              "   Tag  ...                                               Body\n",
              "0   c#  ...  i have a little game written in c#. it uses a ...\n",
              "1  c++  ...  i am working on a collection of classes used f...\n",
              "2   c#  ...  i would like the version property of my applic...\n",
              "\n",
              "[3 rows x 3 columns]"
            ]
          },
          "metadata": {
            "tags": []
          },
          "execution_count": 23
        }
      ]
    },
    {
      "cell_type": "code",
      "metadata": {
        "id": "zSrfrY6hJ8pN",
        "colab_type": "code",
        "colab": {}
      },
      "source": [
        "#punct= '!\"$%&\\'()*,./:;<=>?@[\\\\]^_`{|}~'"
      ],
      "execution_count": 0,
      "outputs": []
    },
    {
      "cell_type": "code",
      "metadata": {
        "id": "eP1NRYR5OA0R",
        "colab_type": "code",
        "colab": {}
      },
      "source": [
        "#Importing the required package\n",
        "#import nltk\n",
        "#from nltk import tokenize"
      ],
      "execution_count": 0,
      "outputs": []
    },
    {
      "cell_type": "code",
      "metadata": {
        "id": "o9S_vtuTOUDp",
        "colab_type": "code",
        "colab": {}
      },
      "source": [
        "#token= tokenize.ToktokTokenizer()"
      ],
      "execution_count": 0,
      "outputs": []
    },
    {
      "cell_type": "code",
      "metadata": {
        "id": "_IjQvAaQK9_3",
        "colab_type": "code",
        "colab": {}
      },
      "source": [
        "# def strip_list_noempty(mylist):\n",
        "#   newlist= (item.strip() if hasattr(item, 'strip') else item for item in mylist)\n",
        "#   return [item for item in newlist if item !='']"
      ],
      "execution_count": 0,
      "outputs": []
    },
    {
      "cell_type": "code",
      "metadata": {
        "id": "OB7DV9i6L3et",
        "colab_type": "code",
        "colab": {}
      },
      "source": [
        "# def clean_punct(text):\n",
        "#   words= token.tokenize(text)\n",
        "#   punctuation_filtered=[]\n",
        "#   regex= re.compile('[%s]' % re.escape(punct))\n",
        "#   remove_punctuation= str.maketrans(' ', ' ', punct)\n",
        "\n",
        "#   for w in words:\n",
        "#     if w in top_10 :\n",
        "#       punctuation_filtered.append(w)\n",
        "#     else:\n",
        "#       punctuation_filtered.append(regex.sub('',w))\n",
        "#   filtered_list= strip_list_noempty(punctuation_filtered)\n",
        "#   return ' '.join(map(str, filtered_list))"
      ],
      "execution_count": 0,
      "outputs": []
    },
    {
      "cell_type": "code",
      "metadata": {
        "id": "4wq9S5QONugi",
        "colab_type": "code",
        "colab": {}
      },
      "source": [
        "#Cleaning the punctuations from the BODY column.\n",
        "#questions['Body']= questions['Body'].apply(lambda x: clean_punct(x))"
      ],
      "execution_count": 0,
      "outputs": []
    },
    {
      "cell_type": "code",
      "metadata": {
        "id": "UUq2xwOvX1-t",
        "colab_type": "code",
        "colab": {}
      },
      "source": [
        "#Cleaning the punctuations from the TITLE column.\n",
        "#questions['Title']= questions['Title'].apply(lambda x: clean_punct(x))"
      ],
      "execution_count": 0,
      "outputs": []
    },
    {
      "cell_type": "code",
      "metadata": {
        "id": "pmH48A7GRaJ3",
        "colab_type": "code",
        "colab": {}
      },
      "source": [
        "#Validation of text in the BODY post cleaning...\n",
        "#questions['Body'][1]"
      ],
      "execution_count": 0,
      "outputs": []
    },
    {
      "cell_type": "code",
      "metadata": {
        "id": "9sTNvQxBYJFr",
        "colab_type": "code",
        "colab": {}
      },
      "source": [
        "#Validation of the text in the TITLE post cleaning...\n",
        "#questions['Title'][1]"
      ],
      "execution_count": 0,
      "outputs": []
    },
    {
      "cell_type": "markdown",
      "metadata": {
        "id": "dbU7XVYkdHui",
        "colab_type": "text"
      },
      "source": [
        "# **Model Builing**"
      ]
    },
    {
      "cell_type": "code",
      "metadata": {
        "id": "BxOIpFqXS26N",
        "colab_type": "code",
        "colab": {}
      },
      "source": [
        "#Importing the required packages.\n",
        "import nltk\n",
        "nltk.download('punkt')\n",
        "from nltk import word_tokenize\n",
        "\n",
        "from sklearn.model_selection import train_test_split\n",
        "from keras.preprocessing.text import Tokenizer\n",
        "from keras.preprocessing import sequence\n",
        "from keras.layers import LSTM, Activation, Dense, Dropout, Input, Embedding, BatchNormalization, GRU, concatenate\n",
        "from keras.models import Model"
      ],
      "execution_count": 0,
      "outputs": []
    },
    {
      "cell_type": "code",
      "metadata": {
        "id": "ZiTvyoEAdGzq",
        "colab_type": "code",
        "colab": {}
      },
      "source": [
        "questions_train, questions_test= train_test_split(questions, test_size=0.2, random_state=100)"
      ],
      "execution_count": 0,
      "outputs": []
    },
    {
      "cell_type": "code",
      "metadata": {
        "id": "Oc3zD2dleO8m",
        "colab_type": "code",
        "colab": {}
      },
      "source": [
        "x_train_t= questions_train['Title']\n",
        "x_train_b= questions_train['Body']\n",
        "y_train= pd.get_dummies(questions_train['Tag'])\n",
        "\n",
        "x_test_t= questions_test['Title']\n",
        "x_test_b= questions_test['Body']\n",
        "y_test= pd.get_dummies(questions_test['Tag'])"
      ],
      "execution_count": 0,
      "outputs": []
    },
    {
      "cell_type": "markdown",
      "metadata": {
        "id": "0sG_a2BFoUkf",
        "colab_type": "text"
      },
      "source": [
        "***For Title...***"
      ]
    },
    {
      "cell_type": "code",
      "metadata": {
        "id": "6hBM1jInnYvp",
        "colab_type": "code",
        "colab": {
          "base_uri": "https://localhost:8080/",
          "height": 35
        },
        "outputId": "08abfbdd-0bc3-41a0-d2e1-8065d4da5ad4"
      },
      "source": [
        "sent_lens_t=[]\n",
        "for sent in questions_train['Title']:\n",
        "  sent_lens_t.append(len(word_tokenize(sent)))\n",
        "\n",
        "max(sent_lens_t)"
      ],
      "execution_count": 36,
      "outputs": [
        {
          "output_type": "execute_result",
          "data": {
            "text/plain": [
              "39"
            ]
          },
          "metadata": {
            "tags": []
          },
          "execution_count": 36
        }
      ]
    },
    {
      "cell_type": "code",
      "metadata": {
        "id": "M6i--5HXnYzC",
        "colab_type": "code",
        "colab": {
          "base_uri": "https://localhost:8080/",
          "height": 35
        },
        "outputId": "6d7229c8-e44b-4a74-c299-0b2849d8eb44"
      },
      "source": [
        "np.quantile(sent_lens_t,0.95)"
      ],
      "execution_count": 37,
      "outputs": [
        {
          "output_type": "execute_result",
          "data": {
            "text/plain": [
              "17.0"
            ]
          },
          "metadata": {
            "tags": []
          },
          "execution_count": 37
        }
      ]
    },
    {
      "cell_type": "code",
      "metadata": {
        "id": "ZFGMMhwyn_AI",
        "colab_type": "code",
        "colab": {}
      },
      "source": [
        "#As we see that 95& of the word has lenth of 17, hence we will set the max length to 17\n",
        "max_len_t=17"
      ],
      "execution_count": 0,
      "outputs": []
    },
    {
      "cell_type": "code",
      "metadata": {
        "id": "Bu02FwsEoMX_",
        "colab_type": "code",
        "colab": {}
      },
      "source": [
        "tok_t= Tokenizer(char_level=False, split=' ')\n",
        "tok_t.fit_on_texts(x_train_t)\n",
        "sequences_train_t= tok_t.texts_to_sequences(x_train_t)\n",
        "sequences_test_t= tok_t. texts_to_sequences(x_test_t) #Applying same for Test data"
      ],
      "execution_count": 0,
      "outputs": []
    },
    {
      "cell_type": "code",
      "metadata": {
        "id": "R5F5YpkIo-2f",
        "colab_type": "code",
        "colab": {
          "base_uri": "https://localhost:8080/",
          "height": 35
        },
        "outputId": "119aad75-966d-46f5-b78b-e3e3f900ccde"
      },
      "source": [
        "vocab_len_t= len(tok_t.index_word.keys()) #verifying vocabulory length.\n",
        "vocab_len_t"
      ],
      "execution_count": 65,
      "outputs": [
        {
          "output_type": "execute_result",
          "data": {
            "text/plain": [
              "15812"
            ]
          },
          "metadata": {
            "tags": []
          },
          "execution_count": 65
        }
      ]
    },
    {
      "cell_type": "code",
      "metadata": {
        "id": "BDjo21QepS4R",
        "colab_type": "code",
        "colab": {}
      },
      "source": [
        "sequences_matrix_train_t= sequence.pad_sequences(sequences_train_t, maxlen= max_len_t)\n",
        "sequences_matrix_test_t= sequence.pad_sequences(sequences_test_t, maxlen= max_len_t) #Applying the same for Test data."
      ],
      "execution_count": 0,
      "outputs": []
    },
    {
      "cell_type": "code",
      "metadata": {
        "id": "ceF-GOy9pSOe",
        "colab_type": "code",
        "colab": {
          "base_uri": "https://localhost:8080/",
          "height": 144
        },
        "outputId": "7c62fd15-1978-4471-ba6b-85368fd974c9"
      },
      "source": [
        "sequences_matrix_train_t"
      ],
      "execution_count": 67,
      "outputs": [
        {
          "output_type": "execute_result",
          "data": {
            "text/plain": [
              "array([[   0,    0,    0, ...,  100,    2,   51],\n",
              "       [   0,    0,    0, ...,   30,  162,   48],\n",
              "       [   0,    0,    0, ...,  230,    1,  859],\n",
              "       ...,\n",
              "       [   0,    0,    0, ..., 2535,   29,  379],\n",
              "       [   0,    0,    0, ...,   64,   14,   98],\n",
              "       [   0,    0,    0, ...,    5,  386,  250]], dtype=int32)"
            ]
          },
          "metadata": {
            "tags": []
          },
          "execution_count": 67
        }
      ]
    },
    {
      "cell_type": "code",
      "metadata": {
        "id": "1JtfgBKRptYi",
        "colab_type": "code",
        "colab": {
          "base_uri": "https://localhost:8080/",
          "height": 144
        },
        "outputId": "08fe9837-e579-4035-bf78-c5a409d06b60"
      },
      "source": [
        "sequences_matrix_test_t"
      ],
      "execution_count": 68,
      "outputs": [
        {
          "output_type": "execute_result",
          "data": {
            "text/plain": [
              "array([[   0,    0,    0, ...,  873,   42, 1104],\n",
              "       [ 137,   39,  581, ...,  902,  581, 1257],\n",
              "       [   0,    0,    0, ...,  226,    8,   84],\n",
              "       ...,\n",
              "       [   0,    0,    0, ...,  560,    2,   50],\n",
              "       [   0,    0,    0, ...,   59,    9,  159],\n",
              "       [   0,    0,    0, ...,   17,   22, 3800]], dtype=int32)"
            ]
          },
          "metadata": {
            "tags": []
          },
          "execution_count": 68
        }
      ]
    },
    {
      "cell_type": "markdown",
      "metadata": {
        "id": "36fOdsHwp1F0",
        "colab_type": "text"
      },
      "source": [
        "***For Body...***"
      ]
    },
    {
      "cell_type": "code",
      "metadata": {
        "id": "8I2KQYHxpuiW",
        "colab_type": "code",
        "colab": {
          "base_uri": "https://localhost:8080/",
          "height": 35
        },
        "outputId": "2bdf7add-43a8-4cfb-b9cf-450a2f804dde"
      },
      "source": [
        "sent_lens_b=[]\n",
        "for sent in questions_train['Body']:\n",
        "  sent_lens_b.append(len(word_tokenize(sent)))\n",
        "\n",
        "max(sent_lens_b)"
      ],
      "execution_count": 69,
      "outputs": [
        {
          "output_type": "execute_result",
          "data": {
            "text/plain": [
              "10972"
            ]
          },
          "metadata": {
            "tags": []
          },
          "execution_count": 69
        }
      ]
    },
    {
      "cell_type": "code",
      "metadata": {
        "id": "rbgtTVvMqOqp",
        "colab_type": "code",
        "colab": {
          "base_uri": "https://localhost:8080/",
          "height": 35
        },
        "outputId": "e301c483-8d62-49c1-8a86-4599ed7b1267"
      },
      "source": [
        "np.quantile(sent_lens_b, 0.92)"
      ],
      "execution_count": 71,
      "outputs": [
        {
          "output_type": "execute_result",
          "data": {
            "text/plain": [
              "495.0"
            ]
          },
          "metadata": {
            "tags": []
          },
          "execution_count": 71
        }
      ]
    },
    {
      "cell_type": "code",
      "metadata": {
        "id": "j7aXq2LXqTgs",
        "colab_type": "code",
        "colab": {}
      },
      "source": [
        "#As we see that 92& of the word has length of 495, hence we will set the max length to 500\n",
        "max_len_b=500"
      ],
      "execution_count": 0,
      "outputs": []
    },
    {
      "cell_type": "code",
      "metadata": {
        "id": "HpdEIqxoqq1R",
        "colab_type": "code",
        "colab": {}
      },
      "source": [
        "tok_b= Tokenizer(char_level=False, split=' ')\n",
        "tok_b.fit_on_texts(x_train_b)\n",
        "sequences_train_b= tok_b.texts_to_sequences(x_train_b)\n",
        "sequences_test_b= tok_b.texts_to_sequences(x_test_b)  #Applying same for Test data"
      ],
      "execution_count": 0,
      "outputs": []
    },
    {
      "cell_type": "code",
      "metadata": {
        "id": "YfnbFLiprOPu",
        "colab_type": "code",
        "colab": {
          "base_uri": "https://localhost:8080/",
          "height": 35
        },
        "outputId": "e11369c1-b012-40cf-b566-6169d21f6d3a"
      },
      "source": [
        "vocab_len_b= len(tok_b.index_word.keys())      #verifying vocabulory length.\n",
        "vocab_len_b"
      ],
      "execution_count": 74,
      "outputs": [
        {
          "output_type": "execute_result",
          "data": {
            "text/plain": [
              "149531"
            ]
          },
          "metadata": {
            "tags": []
          },
          "execution_count": 74
        }
      ]
    },
    {
      "cell_type": "code",
      "metadata": {
        "id": "RUiE44UMr3lu",
        "colab_type": "code",
        "colab": {}
      },
      "source": [
        "sequences_matrix_train_b= sequence.pad_sequences(sequences_train_b, maxlen= max_len_b)\n",
        "sequences_matrix_test_b= sequence.pad_sequences(sequences_test_b, maxlen= max_len_b)     #Applying the same for Test data."
      ],
      "execution_count": 0,
      "outputs": []
    },
    {
      "cell_type": "code",
      "metadata": {
        "id": "CXUQOrA4sPKe",
        "colab_type": "code",
        "colab": {
          "base_uri": "https://localhost:8080/",
          "height": 144
        },
        "outputId": "7316cc41-a11b-4ce4-d928-fe90addddaf7"
      },
      "source": [
        "sequences_matrix_train_b"
      ],
      "execution_count": 76,
      "outputs": [
        {
          "output_type": "execute_result",
          "data": {
            "text/plain": [
              "array([[    0,     0,     0, ...,    12,  1710,    10],\n",
              "       [    0,     0,     0, ...,   532,     8,   305],\n",
              "       [    0,     0,     0, ...,     3,    57, 87314],\n",
              "       ...,\n",
              "       [    0,     0,     0, ...,   343,   861,    33],\n",
              "       [    0,     0,     0, ...,  5746,    94,   178],\n",
              "       [    0,     0,     0, ...,    36,   236,   152]], dtype=int32)"
            ]
          },
          "metadata": {
            "tags": []
          },
          "execution_count": 76
        }
      ]
    },
    {
      "cell_type": "code",
      "metadata": {
        "id": "PV8dBIqesTZC",
        "colab_type": "code",
        "colab": {
          "base_uri": "https://localhost:8080/",
          "height": 144
        },
        "outputId": "c2400625-3636-455c-86b6-ae0f457d5625"
      },
      "source": [
        "sequences_matrix_test_b"
      ],
      "execution_count": 77,
      "outputs": [
        {
          "output_type": "execute_result",
          "data": {
            "text/plain": [
              "array([[    0,     0,     0, ...,    20,     6,  2033],\n",
              "       [    0,     0,     0, ...,   710,     9,   433],\n",
              "       [    0,     0,     0, ...,     1,   247,   381],\n",
              "       ...,\n",
              "       [    0,     0,     0, ...,   208, 10069,   831],\n",
              "       [    0,     0,     0, ...,    90,   243,   293],\n",
              "       [   14,   227,   139, ...,  1665,     3,   254]], dtype=int32)"
            ]
          },
          "metadata": {
            "tags": []
          },
          "execution_count": 77
        }
      ]
    },
    {
      "cell_type": "markdown",
      "metadata": {
        "id": "6ApVjQtk4WYU",
        "colab_type": "text"
      },
      "source": [
        "Verifying the shapes of the matrices..."
      ]
    },
    {
      "cell_type": "code",
      "metadata": {
        "id": "6fewvK5KsUk_",
        "colab_type": "code",
        "colab": {
          "base_uri": "https://localhost:8080/",
          "height": 35
        },
        "outputId": "02b523e7-f1a7-4398-f3d2-0eea01fd2ab4"
      },
      "source": [
        "sequences_matrix_train_t.shape, sequences_matrix_train_b.shape, y_train.shape"
      ],
      "execution_count": 78,
      "outputs": [
        {
          "output_type": "execute_result",
          "data": {
            "text/plain": [
              "((35040, 17), (35040, 500), (35040, 10))"
            ]
          },
          "metadata": {
            "tags": []
          },
          "execution_count": 78
        }
      ]
    },
    {
      "cell_type": "code",
      "metadata": {
        "id": "XVl89ewv3Fxm",
        "colab_type": "code",
        "colab": {
          "base_uri": "https://localhost:8080/",
          "height": 35
        },
        "outputId": "8cf721a7-52f1-4c1a-a101-85e70a9d7e49"
      },
      "source": [
        "sequences_matrix_test_t.shape, sequences_matrix_test_b.shape, y_test.shape"
      ],
      "execution_count": 79,
      "outputs": [
        {
          "output_type": "execute_result",
          "data": {
            "text/plain": [
              "((8760, 17), (8760, 500), (8760, 10))"
            ]
          },
          "metadata": {
            "tags": []
          },
          "execution_count": 79
        }
      ]
    },
    {
      "cell_type": "code",
      "metadata": {
        "id": "HHGrrEPa4k-Y",
        "colab_type": "code",
        "colab": {
          "base_uri": "https://localhost:8080/",
          "height": 53
        },
        "outputId": "b5399417-1c00-4d4d-dc42-7145f70870da"
      },
      "source": [
        "print(max_len_t)\n",
        "print(max_len_b)"
      ],
      "execution_count": 80,
      "outputs": [
        {
          "output_type": "stream",
          "text": [
            "17\n",
            "500\n"
          ],
          "name": "stdout"
        }
      ]
    },
    {
      "cell_type": "code",
      "metadata": {
        "id": "ErQ_rc_5shPv",
        "colab_type": "code",
        "colab": {}
      },
      "source": [
        "#Downloading the Embedding to use the pre-trained weights.. \n",
        "!wget http://nlp.stanford.edu/data/glove.twitter.27B.zip"
      ],
      "execution_count": 0,
      "outputs": []
    },
    {
      "cell_type": "code",
      "metadata": {
        "id": "XSBgTN8Gt6Wj",
        "colab_type": "code",
        "colab": {
          "base_uri": "https://localhost:8080/",
          "height": 108
        },
        "outputId": "9a1ee749-4cd1-4cc5-db88-c95284684fec"
      },
      "source": [
        "#unzipping it..\n",
        "!unzip glove.twitter.27B.zip"
      ],
      "execution_count": 63,
      "outputs": [
        {
          "output_type": "stream",
          "text": [
            "Archive:  glove.twitter.27B.zip\n",
            "  inflating: glove.twitter.27B.25d.txt  \n",
            "  inflating: glove.twitter.27B.50d.txt  \n",
            "  inflating: glove.twitter.27B.100d.txt  \n",
            "  inflating: glove.twitter.27B.200d.txt  \n"
          ],
          "name": "stdout"
        }
      ]
    },
    {
      "cell_type": "code",
      "metadata": {
        "id": "Ofoq6Db96sJw",
        "colab_type": "code",
        "colab": {}
      },
      "source": [
        "embeddings_index= {}\n",
        "f= open('glove.twitter.27B.200d.txt')\n",
        "for line in f:\n",
        "  values= line.split()\n",
        "  word= values[0]\n",
        "  coefs= np.asarray(values[1:], dtype='float32')\n",
        "  embeddings_index[word]= coefs\n",
        "f.close()"
      ],
      "execution_count": 0,
      "outputs": []
    },
    {
      "cell_type": "code",
      "metadata": {
        "id": "1NsCIS9g73qY",
        "colab_type": "code",
        "colab": {}
      },
      "source": [
        "embedding_matrix_t= np.zeros((len(tok_t.word_index)+1,200))\n",
        "for word, i in tok_t.word_index.items():\n",
        "  embedding_vector= embeddings_index.get(word)\n",
        "  if embedding_vector is not None:\n",
        "    #words not found in embedding index will all be set to zeros.\n",
        "    embedding_matrix_t[i]= embedding_vector"
      ],
      "execution_count": 0,
      "outputs": []
    },
    {
      "cell_type": "code",
      "metadata": {
        "id": "8u__dNEO84nl",
        "colab_type": "code",
        "colab": {}
      },
      "source": [
        "embedding_matrix_b= np.zeros((len(tok_b.word_index)+1,200))\n",
        "for word, i in tok_b.word_index.items():\n",
        "  embedding_vector= embeddings_index.get(word)\n",
        "  if embedding_vector is not None:\n",
        "    #words not found in embedding index will all be set to zeros.\n",
        "    embedding_matrix_b[i]= embedding_vector"
      ],
      "execution_count": 0,
      "outputs": []
    },
    {
      "cell_type": "code",
      "metadata": {
        "id": "3a8AH7W873tz",
        "colab_type": "code",
        "colab": {}
      },
      "source": [
        ""
      ],
      "execution_count": 0,
      "outputs": []
    },
    {
      "cell_type": "markdown",
      "metadata": {
        "id": "22ilQ4G4t8Ez",
        "colab_type": "text"
      },
      "source": [
        "# **Model Creation**"
      ]
    },
    {
      "cell_type": "code",
      "metadata": {
        "id": "Ln_GiC0Ytuwt",
        "colab_type": "code",
        "colab": {}
      },
      "source": [
        "def RNN():\n",
        "  #Title only...\n",
        "  title_input= Input(shape=[max_len_t], name='title_input')\n",
        "  title_Embed= Embedding(vocab_len_t+1, 200, weights=[embedding_matrix_t], trainable=False, input_length= max_len_t, mask_zero=True, name='title_Embed') (title_input)\n",
        "  lstm_out_t= LSTM(100) (title_Embed)\n",
        "  #Auxiliary output to tune LSTM weights smoothly...\n",
        "  auxiliary_output= Dense(10, activation= 'sigmoid', name= 'auxiliary_output') (lstm_out_t)\n",
        "\n",
        "  #Body only...\n",
        "  body_input= Input(shape=[max_len_b], name='body_input')\n",
        "  body_Embed= Embedding(vocab_len_b+1, 200, weights=[embedding_matrix_b], trainable=False, input_length= max_len_b, mask_zero=True, name='body_Embed') (body_input)\n",
        "  lstm_out_b= LSTM(100) (body_Embed)\n",
        "  \n",
        "  #Combined with LSTM output...\n",
        "  com= concatenate([lstm_out_t, lstm_out_b])\n",
        "\n",
        "  #Now combined data is being fed to dense layers...\n",
        "  dense1= Dense(50, activation='relu') (com)\n",
        "  dp1= Dropout(0.3) (dense1)\n",
        "  bn= BatchNormalization() (dp1)\n",
        "  dense2= Dense(30, activation='relu') (bn)  \n",
        "  main_output= Dense(10, activation='sigmoid', name='main_output') (dense2)\n",
        "\n",
        "  model= Model(inputs=[title_input, body_input], outputs=[main_output, auxiliary_output])\n",
        "  return model"
      ],
      "execution_count": 0,
      "outputs": []
    },
    {
      "cell_type": "code",
      "metadata": {
        "id": "8_H6xy_JzKOe",
        "colab_type": "code",
        "colab": {
          "base_uri": "https://localhost:8080/",
          "height": 653
        },
        "outputId": "ee497820-a2b0-45f0-a379-84f54af12946"
      },
      "source": [
        "model= RNN()\n",
        "model.summary()"
      ],
      "execution_count": 87,
      "outputs": [
        {
          "output_type": "stream",
          "text": [
            "Model: \"model_2\"\n",
            "__________________________________________________________________________________________________\n",
            "Layer (type)                    Output Shape         Param #     Connected to                     \n",
            "==================================================================================================\n",
            "title_input (InputLayer)        (None, 17)           0                                            \n",
            "__________________________________________________________________________________________________\n",
            "body_input (InputLayer)         (None, 500)          0                                            \n",
            "__________________________________________________________________________________________________\n",
            "title_Embed (Embedding)         (None, 17, 200)      3162600     title_input[0][0]                \n",
            "__________________________________________________________________________________________________\n",
            "body_Embed (Embedding)          (None, 500, 200)     29906400    body_input[0][0]                 \n",
            "__________________________________________________________________________________________________\n",
            "lstm_3 (LSTM)                   (None, 100)          120400      title_Embed[0][0]                \n",
            "__________________________________________________________________________________________________\n",
            "lstm_4 (LSTM)                   (None, 100)          120400      body_Embed[0][0]                 \n",
            "__________________________________________________________________________________________________\n",
            "concatenate_2 (Concatenate)     (None, 200)          0           lstm_3[0][0]                     \n",
            "                                                                 lstm_4[0][0]                     \n",
            "__________________________________________________________________________________________________\n",
            "dense_3 (Dense)                 (None, 50)           10050       concatenate_2[0][0]              \n",
            "__________________________________________________________________________________________________\n",
            "dropout_2 (Dropout)             (None, 50)           0           dense_3[0][0]                    \n",
            "__________________________________________________________________________________________________\n",
            "batch_normalization_2 (BatchNor (None, 50)           200         dropout_2[0][0]                  \n",
            "__________________________________________________________________________________________________\n",
            "dense_4 (Dense)                 (None, 30)           1530        batch_normalization_2[0][0]      \n",
            "__________________________________________________________________________________________________\n",
            "main_output (Dense)             (None, 10)           310         dense_4[0][0]                    \n",
            "__________________________________________________________________________________________________\n",
            "auxiliary_output (Dense)        (None, 10)           1010        lstm_3[0][0]                     \n",
            "==================================================================================================\n",
            "Total params: 33,322,900\n",
            "Trainable params: 253,800\n",
            "Non-trainable params: 33,069,100\n",
            "__________________________________________________________________________________________________\n"
          ],
          "name": "stdout"
        }
      ]
    },
    {
      "cell_type": "code",
      "metadata": {
        "id": "1CXiPFjizQGc",
        "colab_type": "code",
        "colab": {}
      },
      "source": [
        "model.compile(optimizer='adam', loss={'main_output':'categorical_crossentropy', 'auxiliary_output': 'categorical_crossentropy'}, metrics=['accuracy'])"
      ],
      "execution_count": 0,
      "outputs": []
    },
    {
      "cell_type": "markdown",
      "metadata": {
        "id": "1me_A1yCVqe8",
        "colab_type": "text"
      },
      "source": [
        "**Defining ModelCheckpoint to save our model every 3 epoch...**"
      ]
    },
    {
      "cell_type": "code",
      "metadata": {
        "id": "EmN7qcIKQEVw",
        "colab_type": "code",
        "colab": {}
      },
      "source": [
        "from keras.callbacks import ModelCheckpoint\n",
        "import os\n",
        "\n",
        "output_folder= './stackoverflow_output'\n",
        "if not os.path.exists(output_folder):\n",
        "  os.makedirs(output_folder)\n",
        "\n",
        "filepath= output_folder+\"/weights-{epoch:02d}-accuracy-{main_output_acc:.4f}.h5\"\n",
        "checkpoint= ModelCheckpoint(filepath, verbose=1, monitor='main_output_acc',\n",
        "                            save_best_only=False,\n",
        "                            save_weights_only=True,\n",
        "                            mode='auto', period=10) #This will save the weights every 10 epochs"
      ],
      "execution_count": 0,
      "outputs": []
    },
    {
      "cell_type": "code",
      "metadata": {
        "id": "Ml9qtdelzuqo",
        "colab_type": "code",
        "colab": {
          "base_uri": "https://localhost:8080/",
          "height": 415
        },
        "outputId": "39adc77d-6f6c-4dde-f3e2-687688ccc787"
      },
      "source": [
        "results= model.fit({'title_input': sequences_matrix_train_t, 'body_input': sequences_matrix_train_b},\n",
        "                   {'main_output': y_train, 'auxiliary_output': y_train},\n",
        "                   validation_data= [{'title_input': sequences_matrix_test_t, 'body_input': sequences_matrix_test_b},\n",
        "                                     {'main_output': y_test, 'auxiliary_output': y_test}],\n",
        "                   epochs= 80, batch_size= 1000, callbacks=[checkpoint]\n",
        "                   )"
      ],
      "execution_count": 90,
      "outputs": [
        {
          "output_type": "stream",
          "text": [
            "29000/35040 [=======================>......] - ETA: 8s - loss: 1.2299 - main_output_loss: 0.4389 - auxiliary_output_loss: 0.7909 - main_output_acc: 0.8437 - auxiliary_output_acc: 0.7232 "
          ],
          "name": "stdout"
        },
        {
          "output_type": "error",
          "ename": "KeyboardInterrupt",
          "evalue": "ignored",
          "traceback": [
            "\u001b[0;31m---------------------------------------------------------------------------\u001b[0m",
            "\u001b[0;31mKeyboardInterrupt\u001b[0m                         Traceback (most recent call last)",
            "\u001b[0;32m<ipython-input-90-5659f59c52c1>\u001b[0m in \u001b[0;36m<module>\u001b[0;34m()\u001b[0m\n\u001b[1;32m      3\u001b[0m                    validation_data= [{'title_input': sequences_matrix_test_t, 'body_input': sequences_matrix_test_b},\n\u001b[1;32m      4\u001b[0m                                      {'main_output': y_test, 'auxiliary_output': y_test}],\n\u001b[0;32m----> 5\u001b[0;31m                    \u001b[0mepochs\u001b[0m\u001b[0;34m=\u001b[0m \u001b[0;36m80\u001b[0m\u001b[0;34m,\u001b[0m \u001b[0mbatch_size\u001b[0m\u001b[0;34m=\u001b[0m \u001b[0;36m1000\u001b[0m\u001b[0;34m,\u001b[0m \u001b[0mcallbacks\u001b[0m\u001b[0;34m=\u001b[0m\u001b[0;34m[\u001b[0m\u001b[0mcheckpoint\u001b[0m\u001b[0;34m]\u001b[0m\u001b[0;34m\u001b[0m\u001b[0;34m\u001b[0m\u001b[0m\n\u001b[0m\u001b[1;32m      6\u001b[0m                    )\n",
            "\u001b[0;32m/usr/local/lib/python3.6/dist-packages/keras/engine/training.py\u001b[0m in \u001b[0;36mfit\u001b[0;34m(self, x, y, batch_size, epochs, verbose, callbacks, validation_split, validation_data, shuffle, class_weight, sample_weight, initial_epoch, steps_per_epoch, validation_steps, validation_freq, max_queue_size, workers, use_multiprocessing, **kwargs)\u001b[0m\n\u001b[1;32m   1176\u001b[0m                                         \u001b[0msteps_per_epoch\u001b[0m\u001b[0;34m=\u001b[0m\u001b[0msteps_per_epoch\u001b[0m\u001b[0;34m,\u001b[0m\u001b[0;34m\u001b[0m\u001b[0;34m\u001b[0m\u001b[0m\n\u001b[1;32m   1177\u001b[0m                                         \u001b[0mvalidation_steps\u001b[0m\u001b[0;34m=\u001b[0m\u001b[0mvalidation_steps\u001b[0m\u001b[0;34m,\u001b[0m\u001b[0;34m\u001b[0m\u001b[0;34m\u001b[0m\u001b[0m\n\u001b[0;32m-> 1178\u001b[0;31m                                         validation_freq=validation_freq)\n\u001b[0m\u001b[1;32m   1179\u001b[0m \u001b[0;34m\u001b[0m\u001b[0m\n\u001b[1;32m   1180\u001b[0m     def evaluate(self,\n",
            "\u001b[0;32m/usr/local/lib/python3.6/dist-packages/keras/engine/training_arrays.py\u001b[0m in \u001b[0;36mfit_loop\u001b[0;34m(model, fit_function, fit_inputs, out_labels, batch_size, epochs, verbose, callbacks, val_function, val_inputs, shuffle, callback_metrics, initial_epoch, steps_per_epoch, validation_steps, validation_freq)\u001b[0m\n\u001b[1;32m    202\u001b[0m                     \u001b[0mins_batch\u001b[0m\u001b[0;34m[\u001b[0m\u001b[0mi\u001b[0m\u001b[0;34m]\u001b[0m \u001b[0;34m=\u001b[0m \u001b[0mins_batch\u001b[0m\u001b[0;34m[\u001b[0m\u001b[0mi\u001b[0m\u001b[0;34m]\u001b[0m\u001b[0;34m.\u001b[0m\u001b[0mtoarray\u001b[0m\u001b[0;34m(\u001b[0m\u001b[0;34m)\u001b[0m\u001b[0;34m\u001b[0m\u001b[0;34m\u001b[0m\u001b[0m\n\u001b[1;32m    203\u001b[0m \u001b[0;34m\u001b[0m\u001b[0m\n\u001b[0;32m--> 204\u001b[0;31m                 \u001b[0mouts\u001b[0m \u001b[0;34m=\u001b[0m \u001b[0mfit_function\u001b[0m\u001b[0;34m(\u001b[0m\u001b[0mins_batch\u001b[0m\u001b[0;34m)\u001b[0m\u001b[0;34m\u001b[0m\u001b[0;34m\u001b[0m\u001b[0m\n\u001b[0m\u001b[1;32m    205\u001b[0m                 \u001b[0mouts\u001b[0m \u001b[0;34m=\u001b[0m \u001b[0mto_list\u001b[0m\u001b[0;34m(\u001b[0m\u001b[0mouts\u001b[0m\u001b[0;34m)\u001b[0m\u001b[0;34m\u001b[0m\u001b[0;34m\u001b[0m\u001b[0m\n\u001b[1;32m    206\u001b[0m                 \u001b[0;32mfor\u001b[0m \u001b[0ml\u001b[0m\u001b[0;34m,\u001b[0m \u001b[0mo\u001b[0m \u001b[0;32min\u001b[0m \u001b[0mzip\u001b[0m\u001b[0;34m(\u001b[0m\u001b[0mout_labels\u001b[0m\u001b[0;34m,\u001b[0m \u001b[0mouts\u001b[0m\u001b[0;34m)\u001b[0m\u001b[0;34m:\u001b[0m\u001b[0;34m\u001b[0m\u001b[0;34m\u001b[0m\u001b[0m\n",
            "\u001b[0;32m/usr/local/lib/python3.6/dist-packages/keras/backend/tensorflow_backend.py\u001b[0m in \u001b[0;36m__call__\u001b[0;34m(self, inputs)\u001b[0m\n\u001b[1;32m   2977\u001b[0m                     \u001b[0;32mreturn\u001b[0m \u001b[0mself\u001b[0m\u001b[0;34m.\u001b[0m\u001b[0m_legacy_call\u001b[0m\u001b[0;34m(\u001b[0m\u001b[0minputs\u001b[0m\u001b[0;34m)\u001b[0m\u001b[0;34m\u001b[0m\u001b[0;34m\u001b[0m\u001b[0m\n\u001b[1;32m   2978\u001b[0m \u001b[0;34m\u001b[0m\u001b[0m\n\u001b[0;32m-> 2979\u001b[0;31m             \u001b[0;32mreturn\u001b[0m \u001b[0mself\u001b[0m\u001b[0;34m.\u001b[0m\u001b[0m_call\u001b[0m\u001b[0;34m(\u001b[0m\u001b[0minputs\u001b[0m\u001b[0;34m)\u001b[0m\u001b[0;34m\u001b[0m\u001b[0;34m\u001b[0m\u001b[0m\n\u001b[0m\u001b[1;32m   2980\u001b[0m         \u001b[0;32melse\u001b[0m\u001b[0;34m:\u001b[0m\u001b[0;34m\u001b[0m\u001b[0;34m\u001b[0m\u001b[0m\n\u001b[1;32m   2981\u001b[0m             \u001b[0;32mif\u001b[0m \u001b[0mpy_any\u001b[0m\u001b[0;34m(\u001b[0m\u001b[0mis_tensor\u001b[0m\u001b[0;34m(\u001b[0m\u001b[0mx\u001b[0m\u001b[0;34m)\u001b[0m \u001b[0;32mfor\u001b[0m \u001b[0mx\u001b[0m \u001b[0;32min\u001b[0m \u001b[0minputs\u001b[0m\u001b[0;34m)\u001b[0m\u001b[0;34m:\u001b[0m\u001b[0;34m\u001b[0m\u001b[0;34m\u001b[0m\u001b[0m\n",
            "\u001b[0;32m/usr/local/lib/python3.6/dist-packages/keras/backend/tensorflow_backend.py\u001b[0m in \u001b[0;36m_call\u001b[0;34m(self, inputs)\u001b[0m\n\u001b[1;32m   2935\u001b[0m             \u001b[0mfetched\u001b[0m \u001b[0;34m=\u001b[0m \u001b[0mself\u001b[0m\u001b[0;34m.\u001b[0m\u001b[0m_callable_fn\u001b[0m\u001b[0;34m(\u001b[0m\u001b[0;34m*\u001b[0m\u001b[0marray_vals\u001b[0m\u001b[0;34m,\u001b[0m \u001b[0mrun_metadata\u001b[0m\u001b[0;34m=\u001b[0m\u001b[0mself\u001b[0m\u001b[0;34m.\u001b[0m\u001b[0mrun_metadata\u001b[0m\u001b[0;34m)\u001b[0m\u001b[0;34m\u001b[0m\u001b[0;34m\u001b[0m\u001b[0m\n\u001b[1;32m   2936\u001b[0m         \u001b[0;32melse\u001b[0m\u001b[0;34m:\u001b[0m\u001b[0;34m\u001b[0m\u001b[0;34m\u001b[0m\u001b[0m\n\u001b[0;32m-> 2937\u001b[0;31m             \u001b[0mfetched\u001b[0m \u001b[0;34m=\u001b[0m \u001b[0mself\u001b[0m\u001b[0;34m.\u001b[0m\u001b[0m_callable_fn\u001b[0m\u001b[0;34m(\u001b[0m\u001b[0;34m*\u001b[0m\u001b[0marray_vals\u001b[0m\u001b[0;34m)\u001b[0m\u001b[0;34m\u001b[0m\u001b[0;34m\u001b[0m\u001b[0m\n\u001b[0m\u001b[1;32m   2938\u001b[0m         \u001b[0;32mreturn\u001b[0m \u001b[0mfetched\u001b[0m\u001b[0;34m[\u001b[0m\u001b[0;34m:\u001b[0m\u001b[0mlen\u001b[0m\u001b[0;34m(\u001b[0m\u001b[0mself\u001b[0m\u001b[0;34m.\u001b[0m\u001b[0moutputs\u001b[0m\u001b[0;34m)\u001b[0m\u001b[0;34m]\u001b[0m\u001b[0;34m\u001b[0m\u001b[0;34m\u001b[0m\u001b[0m\n\u001b[1;32m   2939\u001b[0m \u001b[0;34m\u001b[0m\u001b[0m\n",
            "\u001b[0;32m/usr/local/lib/python3.6/dist-packages/tensorflow_core/python/client/session.py\u001b[0m in \u001b[0;36m__call__\u001b[0;34m(self, *args, **kwargs)\u001b[0m\n\u001b[1;32m   1470\u001b[0m         ret = tf_session.TF_SessionRunCallable(self._session._session,\n\u001b[1;32m   1471\u001b[0m                                                \u001b[0mself\u001b[0m\u001b[0;34m.\u001b[0m\u001b[0m_handle\u001b[0m\u001b[0;34m,\u001b[0m \u001b[0margs\u001b[0m\u001b[0;34m,\u001b[0m\u001b[0;34m\u001b[0m\u001b[0;34m\u001b[0m\u001b[0m\n\u001b[0;32m-> 1472\u001b[0;31m                                                run_metadata_ptr)\n\u001b[0m\u001b[1;32m   1473\u001b[0m         \u001b[0;32mif\u001b[0m \u001b[0mrun_metadata\u001b[0m\u001b[0;34m:\u001b[0m\u001b[0;34m\u001b[0m\u001b[0;34m\u001b[0m\u001b[0m\n\u001b[1;32m   1474\u001b[0m           \u001b[0mproto_data\u001b[0m \u001b[0;34m=\u001b[0m \u001b[0mtf_session\u001b[0m\u001b[0;34m.\u001b[0m\u001b[0mTF_GetBuffer\u001b[0m\u001b[0;34m(\u001b[0m\u001b[0mrun_metadata_ptr\u001b[0m\u001b[0;34m)\u001b[0m\u001b[0;34m\u001b[0m\u001b[0;34m\u001b[0m\u001b[0m\n",
            "\u001b[0;31mKeyboardInterrupt\u001b[0m: "
          ]
        }
      ]
    },
    {
      "cell_type": "code",
      "metadata": {
        "id": "Bp_vEKj02zGy",
        "colab_type": "code",
        "colab": {}
      },
      "source": [
        "#Now load the saved model for prediction..\n",
        "model.load_weights('/content/stackoverflow_output/weights-30-accuracy-0.8252.h5')"
      ],
      "execution_count": 0,
      "outputs": []
    },
    {
      "cell_type": "code",
      "metadata": {
        "id": "UGWcvdpZ0odk",
        "colab_type": "code",
        "colab": {
          "base_uri": "https://localhost:8080/",
          "height": 35
        },
        "outputId": "9075ab4d-3450-492a-f079-c2f09cade199"
      },
      "source": [
        "#Predicting the model..\n",
        "(predict_main, predict_auxiliary)= model.predict({'title_input': sequences_matrix_test_t, 'body_input': sequences_matrix_test_b}, verbose=1)"
      ],
      "execution_count": 93,
      "outputs": [
        {
          "output_type": "stream",
          "text": [
            "8760/8760 [==============================] - 122s 14ms/step\n"
          ],
          "name": "stdout"
        }
      ]
    },
    {
      "cell_type": "code",
      "metadata": {
        "id": "f_YvAf-GLOKf",
        "colab_type": "code",
        "colab": {}
      },
      "source": [
        "#Importing required packages...\n",
        "from sklearn.metrics import classification_report, f1_score"
      ],
      "execution_count": 0,
      "outputs": []
    },
    {
      "cell_type": "code",
      "metadata": {
        "id": "b3Eh4-E1LYgR",
        "colab_type": "code",
        "colab": {
          "base_uri": "https://localhost:8080/",
          "height": 35
        },
        "outputId": "6b3df846-28ca-4529-8cf7-8e62ce32eecb"
      },
      "source": [
        "print(f1_score(y_test, predict_main>0.55, average='weighted'))"
      ],
      "execution_count": 99,
      "outputs": [
        {
          "output_type": "stream",
          "text": [
            "0.6097369926162607\n"
          ],
          "name": "stdout"
        }
      ]
    },
    {
      "cell_type": "code",
      "metadata": {
        "id": "zfLSZJTR6N4o",
        "colab_type": "code",
        "colab": {
          "base_uri": "https://localhost:8080/",
          "height": 400
        },
        "outputId": "09230ddf-f377-406c-aa19-af16f54ca392"
      },
      "source": [
        "print(classification_report(y_test, predict_main>0.55))"
      ],
      "execution_count": 100,
      "outputs": [
        {
          "output_type": "stream",
          "text": [
            "              precision    recall  f1-score   support\n",
            "\n",
            "           0       0.85      0.80      0.83      1014\n",
            "           1       0.97      0.21      0.34      1420\n",
            "           2       0.87      0.66      0.75       891\n",
            "           3       0.55      0.37      0.44       429\n",
            "           4       0.88      0.66      0.75       535\n",
            "           5       0.96      0.42      0.58      1317\n",
            "           6       0.66      0.38      0.48      1140\n",
            "           7       0.62      0.60      0.61       505\n",
            "           8       0.91      0.61      0.73       580\n",
            "           9       0.97      0.62      0.76       929\n",
            "\n",
            "   micro avg       0.83      0.51      0.63      8760\n",
            "   macro avg       0.83      0.53      0.63      8760\n",
            "weighted avg       0.86      0.51      0.61      8760\n",
            " samples avg       0.50      0.51      0.50      8760\n",
            "\n"
          ],
          "name": "stdout"
        },
        {
          "output_type": "stream",
          "text": [
            "/usr/local/lib/python3.6/dist-packages/sklearn/metrics/_classification.py:1272: UndefinedMetricWarning: Precision and F-score are ill-defined and being set to 0.0 in samples with no predicted labels. Use `zero_division` parameter to control this behavior.\n",
            "  _warn_prf(average, modifier, msg_start, len(result))\n"
          ],
          "name": "stderr"
        }
      ]
    },
    {
      "cell_type": "code",
      "metadata": {
        "id": "zdd7o90rLYjj",
        "colab_type": "code",
        "colab": {
          "base_uri": "https://localhost:8080/",
          "height": 53
        },
        "outputId": "c896cdd9-0a4a-4b70-ccba-ad7df6e241bd"
      },
      "source": [
        "predict_main[24].round(decimals=2)"
      ],
      "execution_count": 101,
      "outputs": [
        {
          "output_type": "execute_result",
          "data": {
            "text/plain": [
              "array([0.02, 0.  , 0.  , 0.  , 0.91, 0.  , 0.01, 0.  , 0.  , 0.  ],\n",
              "      dtype=float32)"
            ]
          },
          "metadata": {
            "tags": []
          },
          "execution_count": 101
        }
      ]
    },
    {
      "cell_type": "code",
      "metadata": {
        "id": "1GIdSWp3LOOe",
        "colab_type": "code",
        "colab": {
          "base_uri": "https://localhost:8080/",
          "height": 199
        },
        "outputId": "f244a0a1-c37f-430f-e178-ee0feaa36ba7"
      },
      "source": [
        "top_10"
      ],
      "execution_count": 102,
      "outputs": [
        {
          "output_type": "execute_result",
          "data": {
            "text/plain": [
              "['javascript',\n",
              " 'java',\n",
              " 'c#',\n",
              " 'php',\n",
              " 'android',\n",
              " 'jquery',\n",
              " 'python',\n",
              " 'html',\n",
              " 'c++',\n",
              " 'ios']"
            ]
          },
          "metadata": {
            "tags": []
          },
          "execution_count": 102
        }
      ]
    },
    {
      "cell_type": "code",
      "metadata": {
        "id": "RUuruiRb60Yt",
        "colab_type": "code",
        "colab": {
          "base_uri": "https://localhost:8080/",
          "height": 53
        },
        "outputId": "9103cb05-c209-4deb-ac65-18050ffc94b9"
      },
      "source": [
        "predict_main[].round(decimals=2)"
      ],
      "execution_count": 108,
      "outputs": [
        {
          "output_type": "execute_result",
          "data": {
            "text/plain": [
              "array([0.  , 0.  , 0.  , 0.  , 0.  , 0.  , 0.  , 0.  , 0.01, 0.99],\n",
              "      dtype=float32)"
            ]
          },
          "metadata": {
            "tags": []
          },
          "execution_count": 108
        }
      ]
    },
    {
      "cell_type": "code",
      "metadata": {
        "id": "tlUME43ZL_yn",
        "colab_type": "code",
        "colab": {}
      },
      "source": [
        "#Saving the model..\n",
        "model.save('./stackoverflow_tags_model.h5')"
      ],
      "execution_count": 0,
      "outputs": []
    },
    {
      "cell_type": "code",
      "metadata": {
        "id": "vs6ejMBTOHJD",
        "colab_type": "code",
        "colab": {}
      },
      "source": [
        ""
      ],
      "execution_count": 0,
      "outputs": []
    }
  ]
}